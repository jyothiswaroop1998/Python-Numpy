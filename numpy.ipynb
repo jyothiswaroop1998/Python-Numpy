{
 "cells": [
  {
   "cell_type": "code",
   "execution_count": 1,
   "id": "4bb87b64",
   "metadata": {},
   "outputs": [],
   "source": [
    "import numpy as np"
   ]
  },
  {
   "cell_type": "code",
   "execution_count": 4,
   "id": "e1bad4ff",
   "metadata": {},
   "outputs": [],
   "source": [
    "a = np.array([1,2,3])\n",
    "b = np.array([(1.5,2,3),(4,5,6)], dtype = float)\n",
    "c = np.array([[(1.5,2,3),(4,5,6)],\n",
    "             [(3,1,1),(4,5,6)]], dtype = float)"
   ]
  },
  {
   "cell_type": "code",
   "execution_count": 8,
   "id": "5938a272",
   "metadata": {},
   "outputs": [
    {
     "data": {
      "text/plain": [
       "(array([1, 2, 3]),\n",
       " array([[1.5, 2. , 3. ],\n",
       "        [4. , 5. , 6. ]]),\n",
       " array([[[1.5, 2. , 3. ],\n",
       "         [4. , 5. , 6. ]],\n",
       " \n",
       "        [[3. , 1. , 1. ],\n",
       "         [4. , 5. , 6. ]]]))"
      ]
     },
     "execution_count": 8,
     "metadata": {},
     "output_type": "execute_result"
    }
   ],
   "source": [
    "a , b , c"
   ]
  },
  {
   "cell_type": "code",
   "execution_count": 10,
   "id": "9505b580",
   "metadata": {},
   "outputs": [
    {
     "data": {
      "text/plain": [
       "array([[0., 0., 0., 0.],\n",
       "       [0., 0., 0., 0.],\n",
       "       [0., 0., 0., 0.]])"
      ]
     },
     "execution_count": 10,
     "metadata": {},
     "output_type": "execute_result"
    }
   ],
   "source": [
    "#array with (3,4) shape all elements are zero\n",
    "np.zeros((3,4))"
   ]
  },
  {
   "cell_type": "code",
   "execution_count": 16,
   "id": "aad8a4df",
   "metadata": {},
   "outputs": [
    {
     "data": {
      "text/plain": [
       "array([[[1, 1, 1, 1],\n",
       "        [1, 1, 1, 1],\n",
       "        [1, 1, 1, 1]],\n",
       "\n",
       "       [[1, 1, 1, 1],\n",
       "        [1, 1, 1, 1],\n",
       "        [1, 1, 1, 1]]])"
      ]
     },
     "execution_count": 16,
     "metadata": {},
     "output_type": "execute_result"
    }
   ],
   "source": [
    "#array with (2,3,4) shape all elements are one\n",
    "np.ones((2,3,4) ,  dtype = int)"
   ]
  },
  {
   "cell_type": "code",
   "execution_count": 24,
   "id": "3d7b1496",
   "metadata": {},
   "outputs": [
    {
     "name": "stdout",
     "output_type": "stream",
     "text": [
      "[10 15 20]\n"
     ]
    }
   ],
   "source": [
    "# np.arange (start , stop , space) \n",
    "d = np.arange(10,25,5)\n",
    "print(d)"
   ]
  },
  {
   "cell_type": "code",
   "execution_count": 27,
   "id": "3393e8de",
   "metadata": {},
   "outputs": [
    {
     "data": {
      "text/plain": [
       "array([0.  , 0.25, 0.5 , 0.75, 1.  , 1.25, 1.5 , 1.75, 2.  ])"
      ]
     },
     "execution_count": 27,
     "metadata": {},
     "output_type": "execute_result"
    }
   ],
   "source": [
    "# np.linspace(start , stop , number of values between start and stop)\n",
    "np.linspace(0,2,9)"
   ]
  },
  {
   "cell_type": "code",
   "execution_count": 6,
   "id": "caacaf7e",
   "metadata": {},
   "outputs": [
    {
     "data": {
      "text/plain": [
       "array([[7, 7],\n",
       "       [7, 7]])"
      ]
     },
     "execution_count": 6,
     "metadata": {},
     "output_type": "execute_result"
    }
   ],
   "source": [
    "# np.full(shape , number) fully fills the array with given number\n",
    "np.full((2,2),7)"
   ]
  },
  {
   "cell_type": "code",
   "execution_count": 11,
   "id": "996b0934",
   "metadata": {},
   "outputs": [
    {
     "data": {
      "text/plain": [
       "array([[1., 0., 0., 0., 0.],\n",
       "       [0., 1., 0., 0., 0.],\n",
       "       [0., 0., 1., 0., 0.],\n",
       "       [0., 0., 0., 1., 0.],\n",
       "       [0., 0., 0., 0., 1.]])"
      ]
     },
     "execution_count": 11,
     "metadata": {},
     "output_type": "execute_result"
    }
   ],
   "source": [
    "# np.eye(number) gives np.ones array with number * number shape given\n",
    "np.eye(5)"
   ]
  },
  {
   "cell_type": "code",
   "execution_count": 21,
   "id": "0181e6f9",
   "metadata": {},
   "outputs": [],
   "source": [
    "#import random module\n",
    "import random"
   ]
  },
  {
   "cell_type": "code",
   "execution_count": 22,
   "id": "80261708",
   "metadata": {},
   "outputs": [
    {
     "data": {
      "text/plain": [
       "array([[0.23057634, 0.38917397],\n",
       "       [0.22586297, 0.29759718]])"
      ]
     },
     "execution_count": 22,
     "metadata": {},
     "output_type": "execute_result"
    }
   ],
   "source": [
    "# np.random.random(shape) gives array with random values >= 0 and < 1\n",
    "np.random.random((2,2))"
   ]
  },
  {
   "cell_type": "code",
   "execution_count": 33,
   "id": "e21088d8",
   "metadata": {},
   "outputs": [
    {
     "data": {
      "text/plain": [
       "array([[1.34322370e-311],\n",
       "       [0.00000000e+000],\n",
       "       [1.60216182e-306]])"
      ]
     },
     "execution_count": 33,
     "metadata": {},
     "output_type": "execute_result"
    }
   ],
   "source": [
    "#This function is used to create an array without initializing the entries of given shape and type.\n",
    "np.empty((3,1))"
   ]
  },
  {
   "cell_type": "code",
   "execution_count": 35,
   "id": "1cf06a44",
   "metadata": {},
   "outputs": [
    {
     "data": {
      "text/plain": [
       "(3,)"
      ]
     },
     "execution_count": 35,
     "metadata": {},
     "output_type": "execute_result"
    }
   ],
   "source": [
    "# gives shape of array\n",
    "a.shape"
   ]
  },
  {
   "cell_type": "code",
   "execution_count": 43,
   "id": "ebced3c2",
   "metadata": {},
   "outputs": [
    {
     "data": {
      "text/plain": [
       "(3, (3,))"
      ]
     },
     "execution_count": 43,
     "metadata": {},
     "output_type": "execute_result"
    }
   ],
   "source": [
    "len(a) , a.shape"
   ]
  },
  {
   "cell_type": "code",
   "execution_count": 44,
   "id": "f336ba6a",
   "metadata": {},
   "outputs": [
    {
     "data": {
      "text/plain": [
       "(2, (2, 3))"
      ]
     },
     "execution_count": 44,
     "metadata": {},
     "output_type": "execute_result"
    }
   ],
   "source": [
    "len(b) , b.shape"
   ]
  },
  {
   "cell_type": "code",
   "execution_count": 45,
   "id": "e3c30ba8",
   "metadata": {},
   "outputs": [
    {
     "data": {
      "text/plain": [
       "(2, (2, 2, 3))"
      ]
     },
     "execution_count": 45,
     "metadata": {},
     "output_type": "execute_result"
    }
   ],
   "source": [
    "len(c) , c.shape"
   ]
  },
  {
   "cell_type": "code",
   "execution_count": 52,
   "id": "7d302750",
   "metadata": {},
   "outputs": [
    {
     "data": {
      "text/plain": [
       "7"
      ]
     },
     "execution_count": 52,
     "metadata": {},
     "output_type": "execute_result"
    }
   ],
   "source": [
    "# the number of elements(array) in an array\n",
    "len(np. empty((7,5, 3,15)))"
   ]
  },
  {
   "cell_type": "code",
   "execution_count": 54,
   "id": "ad7962f5",
   "metadata": {},
   "outputs": [
    {
     "data": {
      "text/plain": [
       "(2, 3, 1)"
      ]
     },
     "execution_count": 54,
     "metadata": {},
     "output_type": "execute_result"
    }
   ],
   "source": [
    "# returns number of dimensions of array\n",
    "b.ndim , c.ndim , a.ndim"
   ]
  },
  {
   "cell_type": "code",
   "execution_count": 58,
   "id": "8675e60a",
   "metadata": {},
   "outputs": [
    {
     "data": {
      "text/plain": [
       "(3, 6, 12)"
      ]
     },
     "execution_count": 58,
     "metadata": {},
     "output_type": "execute_result"
    }
   ],
   "source": [
    "# number of values in array\n",
    "a.size , b.size , c.size\n"
   ]
  },
  {
   "cell_type": "code",
   "execution_count": 60,
   "id": "801be8bf",
   "metadata": {},
   "outputs": [
    {
     "data": {
      "text/plain": [
       "(dtype('int32'), dtype('float64'), dtype('float64'))"
      ]
     },
     "execution_count": 60,
     "metadata": {},
     "output_type": "execute_result"
    }
   ],
   "source": [
    "# returns data type of elements in array\n",
    "a.dtype , b.dtype , c.dtype"
   ]
  },
  {
   "cell_type": "code",
   "execution_count": 63,
   "id": "f99ace8d",
   "metadata": {},
   "outputs": [
    {
     "data": {
      "text/plain": [
       "('int32', 'float64', 'float64')"
      ]
     },
     "execution_count": 63,
     "metadata": {},
     "output_type": "execute_result"
    }
   ],
   "source": [
    "# returns name of data type of elements in array\n",
    "a.dtype.name , b.dtype.name , c.dtype.name"
   ]
  },
  {
   "cell_type": "code",
   "execution_count": 67,
   "id": "9e0e183d",
   "metadata": {},
   "outputs": [
    {
     "data": {
      "text/plain": [
       "(array(['1', '2', '3'], dtype='<U11'),\n",
       " array([[1, 2, 3],\n",
       "        [4, 5, 6]]),\n",
       " array([[[1.5, 2. , 3. ],\n",
       "         [4. , 5. , 6. ]],\n",
       " \n",
       "        [[3. , 1. , 1. ],\n",
       "         [4. , 5. , 6. ]]]))"
      ]
     },
     "execution_count": 67,
     "metadata": {},
     "output_type": "execute_result"
    }
   ],
   "source": [
    "# changes data type of values in array\n",
    "a.astype(str) , b.astype(int) , c.astype(float)"
   ]
  },
  {
   "cell_type": "code",
   "execution_count": 2,
   "id": "0a1ba67c",
   "metadata": {},
   "outputs": [],
   "source": [
    "a = np.array([1,2,3])\n",
    "b = np.array([(1.5,2,3),(4,5,6)], dtype = float)\n",
    "c = np.array([[(1.5,2,3),(4,5,6)],\n",
    "             [(3,1,1),(4,5,6)]], dtype = float)"
   ]
  },
  {
   "cell_type": "code",
   "execution_count": null,
   "id": "bcfd1ec3",
   "metadata": {},
   "outputs": [],
   "source": [
    "#Array mathematics"
   ]
  },
  {
   "cell_type": "code",
   "execution_count": 69,
   "id": "13273362",
   "metadata": {},
   "outputs": [
    {
     "data": {
      "text/plain": [
       "array([[2.5, 4. , 6. ],\n",
       "       [5. , 7. , 9. ]])"
      ]
     },
     "execution_count": 69,
     "metadata": {},
     "output_type": "execute_result"
    }
   ],
   "source": [
    "a+b"
   ]
  },
  {
   "cell_type": "code",
   "execution_count": 70,
   "id": "62548d18",
   "metadata": {},
   "outputs": [
    {
     "data": {
      "text/plain": [
       "array([[2.5, 4. , 6. ],\n",
       "       [5. , 7. , 9. ]])"
      ]
     },
     "execution_count": 70,
     "metadata": {},
     "output_type": "execute_result"
    }
   ],
   "source": [
    "np.add(a,b)"
   ]
  },
  {
   "cell_type": "code",
   "execution_count": 71,
   "id": "ebbc27ec",
   "metadata": {},
   "outputs": [
    {
     "data": {
      "text/plain": [
       "array([[-0.5,  0. ,  0. ],\n",
       "       [-3. , -3. , -3. ]])"
      ]
     },
     "execution_count": 71,
     "metadata": {},
     "output_type": "execute_result"
    }
   ],
   "source": [
    "a-b"
   ]
  },
  {
   "cell_type": "code",
   "execution_count": 75,
   "id": "50ddbb1a",
   "metadata": {},
   "outputs": [
    {
     "data": {
      "text/plain": [
       "array([[-0.5,  0. ,  0. ],\n",
       "       [-3. , -3. , -3. ]])"
      ]
     },
     "execution_count": 75,
     "metadata": {},
     "output_type": "execute_result"
    }
   ],
   "source": [
    "np.subtract(a,b)"
   ]
  },
  {
   "cell_type": "code",
   "execution_count": 76,
   "id": "16b98ca9",
   "metadata": {},
   "outputs": [
    {
     "data": {
      "text/plain": [
       "array([1, 4, 9], dtype=int32)"
      ]
     },
     "execution_count": 76,
     "metadata": {},
     "output_type": "execute_result"
    }
   ],
   "source": [
    "a**2"
   ]
  },
  {
   "cell_type": "code",
   "execution_count": 81,
   "id": "74e0e65a",
   "metadata": {},
   "outputs": [
    {
     "data": {
      "text/plain": [
       "array([    1,   512, 19683], dtype=int32)"
      ]
     },
     "execution_count": 81,
     "metadata": {},
     "output_type": "execute_result"
    }
   ],
   "source": [
    "np.power(a,9)"
   ]
  },
  {
   "cell_type": "code",
   "execution_count": 82,
   "id": "dbf21069",
   "metadata": {},
   "outputs": [
    {
     "data": {
      "text/plain": [
       "array([ 2.71828183,  7.3890561 , 20.08553692])"
      ]
     },
     "execution_count": 82,
     "metadata": {},
     "output_type": "execute_result"
    }
   ],
   "source": [
    "np.exp(a)"
   ]
  },
  {
   "cell_type": "code",
   "execution_count": 83,
   "id": "c0b68ba2",
   "metadata": {},
   "outputs": [],
   "source": [
    "a = (np.exp(a))"
   ]
  },
  {
   "cell_type": "code",
   "execution_count": 84,
   "id": "91140744",
   "metadata": {},
   "outputs": [
    {
     "data": {
      "text/plain": [
       "array([ 2.71828183,  7.3890561 , 20.08553692])"
      ]
     },
     "execution_count": 84,
     "metadata": {},
     "output_type": "execute_result"
    }
   ],
   "source": [
    "a"
   ]
  },
  {
   "cell_type": "code",
   "execution_count": 85,
   "id": "e6668a6e",
   "metadata": {},
   "outputs": [
    {
     "data": {
      "text/plain": [
       "(2.718281828459045, 7.38905609893065, 20.085536923187668)"
      ]
     },
     "execution_count": 85,
     "metadata": {},
     "output_type": "execute_result"
    }
   ],
   "source": [
    "tuple(a)"
   ]
  },
  {
   "cell_type": "code",
   "execution_count": 86,
   "id": "199761eb",
   "metadata": {},
   "outputs": [
    {
     "data": {
      "text/plain": [
       "{2.718281828459045, 7.38905609893065, 20.085536923187668}"
      ]
     },
     "execution_count": 86,
     "metadata": {},
     "output_type": "execute_result"
    }
   ],
   "source": [
    "set(a)"
   ]
  },
  {
   "cell_type": "code",
   "execution_count": 87,
   "id": "5e2fa696",
   "metadata": {},
   "outputs": [
    {
     "data": {
      "text/plain": [
       "array([ 2,  7, 20])"
      ]
     },
     "execution_count": 87,
     "metadata": {},
     "output_type": "execute_result"
    }
   ],
   "source": [
    "np.array(a , dtype = int)"
   ]
  },
  {
   "cell_type": "code",
   "execution_count": 88,
   "id": "3c94aace",
   "metadata": {},
   "outputs": [
    {
     "data": {
      "text/plain": [
       "'[ 2.71828183  7.3890561  20.08553692]'"
      ]
     },
     "execution_count": 88,
     "metadata": {},
     "output_type": "execute_result"
    }
   ],
   "source": [
    "str(a)"
   ]
  },
  {
   "cell_type": "code",
   "execution_count": 89,
   "id": "9e5fc060",
   "metadata": {},
   "outputs": [
    {
     "data": {
      "text/plain": [
       "array([ 2.71828183,  7.3890561 , 20.08553692])"
      ]
     },
     "execution_count": 89,
     "metadata": {},
     "output_type": "execute_result"
    }
   ],
   "source": [
    "np.array(a)"
   ]
  },
  {
   "cell_type": "code",
   "execution_count": 94,
   "id": "7ea613ba",
   "metadata": {},
   "outputs": [
    {
     "data": {
      "text/plain": [
       "array([[0.40546511, 0.69314718, 1.09861229],\n",
       "       [1.38629436, 1.60943791, 1.79175947]])"
      ]
     },
     "execution_count": 94,
     "metadata": {},
     "output_type": "execute_result"
    }
   ],
   "source": [
    "np.log(b)"
   ]
  },
  {
   "cell_type": "code",
   "execution_count": 122,
   "id": "cd877217",
   "metadata": {},
   "outputs": [
    {
     "name": "stdout",
     "output_type": "stream",
     "text": [
      "[array([0.41078129, 0.89385495, 0.94447101]), array([[ 0.99749499,  0.90929743,  0.14112001],\n",
      "       [-0.7568025 , -0.95892427, -0.2794155 ]]), array([[[ 0.99749499,  0.90929743,  0.14112001],\n",
      "        [-0.7568025 , -0.95892427, -0.2794155 ]],\n",
      "\n",
      "       [[ 0.14112001,  0.84147098,  0.84147098],\n",
      "        [-0.7568025 , -0.95892427, -0.2794155 ]]])]\n",
      "[array([0.41078129, 0.89385495, 0.94447101])\n",
      " array([[ 0.99749499,  0.90929743,  0.14112001],\n",
      "        [-0.7568025 , -0.95892427, -0.2794155 ]])\n",
      " array([[[ 0.99749499,  0.90929743,  0.14112001],\n",
      "         [-0.7568025 , -0.95892427, -0.2794155 ]],\n",
      "\n",
      "        [[ 0.14112001,  0.84147098,  0.84147098],\n",
      "         [-0.7568025 , -0.95892427, -0.2794155 ]]])]\n"
     ]
    },
    {
     "name": "stderr",
     "output_type": "stream",
     "text": [
      "<ipython-input-122-6fe7d02264d5>:4: VisibleDeprecationWarning: Creating an ndarray from ragged nested sequences (which is a list-or-tuple of lists-or-tuples-or ndarrays with different lengths or shapes) is deprecated. If you meant to do this, you must specify 'dtype=object' when creating the ndarray.\n",
      "  new = np.array(lst)\n"
     ]
    }
   ],
   "source": [
    "lst = [np.sin(a) , np.sin(b) , np.sin(c)]\n",
    "print(lst)\n",
    "tuple(lst)\n",
    "new = np.array(lst)\n",
    "print(new)"
   ]
  },
  {
   "cell_type": "code",
   "execution_count": 109,
   "id": "7b0a3912",
   "metadata": {},
   "outputs": [
    {
     "data": {
      "text/plain": [
       "(array([-0.91173391,  0.44835624,  0.32859476]),\n",
       " array([[ 0.0707372 , -0.41614684, -0.9899925 ],\n",
       "        [-0.65364362,  0.28366219,  0.96017029]]),\n",
       " array([[[ 0.0707372 , -0.41614684, -0.9899925 ],\n",
       "         [-0.65364362,  0.28366219,  0.96017029]],\n",
       " \n",
       "        [[-0.9899925 ,  0.54030231,  0.54030231],\n",
       "         [-0.65364362,  0.28366219,  0.96017029]]]))"
      ]
     },
     "execution_count": 109,
     "metadata": {},
     "output_type": "execute_result"
    }
   ],
   "source": [
    "np.cos(a) , np.cos(b) , np.cos(c)"
   ]
  },
  {
   "cell_type": "code",
   "execution_count": 123,
   "id": "1aa41f8c",
   "metadata": {},
   "outputs": [
    {
     "data": {
      "text/plain": [
       "(array([1., 2., 3.]),\n",
       " array([[0.40546511, 0.69314718, 1.09861229],\n",
       "        [1.38629436, 1.60943791, 1.79175947]]),\n",
       " array([[[0.40546511, 0.69314718, 1.09861229],\n",
       "         [1.38629436, 1.60943791, 1.79175947]],\n",
       " \n",
       "        [[1.09861229, 0.        , 0.        ],\n",
       "         [1.38629436, 1.60943791, 1.79175947]]]))"
      ]
     },
     "execution_count": 123,
     "metadata": {},
     "output_type": "execute_result"
    }
   ],
   "source": [
    "np.log(a) , np.log(b) , np.log(c)"
   ]
  },
  {
   "cell_type": "code",
   "execution_count": 124,
   "id": "2e93a076",
   "metadata": {},
   "outputs": [
    {
     "data": {
      "text/plain": [
       "(array([1.64872127, 2.71828183, 4.48168907]),\n",
       " array([[1.22474487, 1.41421356, 1.73205081],\n",
       "        [2.        , 2.23606798, 2.44948974]]),\n",
       " array([[[1.22474487, 1.41421356, 1.73205081],\n",
       "         [2.        , 2.23606798, 2.44948974]],\n",
       " \n",
       "        [[1.73205081, 1.        , 1.        ],\n",
       "         [2.        , 2.23606798, 2.44948974]]]))"
      ]
     },
     "execution_count": 124,
     "metadata": {},
     "output_type": "execute_result"
    }
   ],
   "source": [
    "np.sqrt(a) , np.sqrt(b) , np.sqrt(c)"
   ]
  },
  {
   "cell_type": "code",
   "execution_count": 125,
   "id": "7e32a4ff",
   "metadata": {},
   "outputs": [],
   "source": [
    "e = np.full((2,2), 7)"
   ]
  },
  {
   "cell_type": "code",
   "execution_count": 126,
   "id": "2a954c11",
   "metadata": {},
   "outputs": [
    {
     "data": {
      "text/plain": [
       "array([[7, 7],\n",
       "       [7, 7]])"
      ]
     },
     "execution_count": 126,
     "metadata": {},
     "output_type": "execute_result"
    }
   ],
   "source": [
    "e"
   ]
  },
  {
   "cell_type": "code",
   "execution_count": 127,
   "id": "9c0500a6",
   "metadata": {},
   "outputs": [],
   "source": [
    "f = np.eye(2)"
   ]
  },
  {
   "cell_type": "code",
   "execution_count": 128,
   "id": "5f01fb21",
   "metadata": {},
   "outputs": [
    {
     "data": {
      "text/plain": [
       "array([[1., 0.],\n",
       "       [0., 1.]])"
      ]
     },
     "execution_count": 128,
     "metadata": {},
     "output_type": "execute_result"
    }
   ],
   "source": [
    "f"
   ]
  },
  {
   "cell_type": "code",
   "execution_count": 129,
   "id": "8c14807e",
   "metadata": {},
   "outputs": [
    {
     "data": {
      "text/plain": [
       "array([[7., 7.],\n",
       "       [7., 7.]])"
      ]
     },
     "execution_count": 129,
     "metadata": {},
     "output_type": "execute_result"
    }
   ],
   "source": [
    "e.dot(f)"
   ]
  },
  {
   "cell_type": "code",
   "execution_count": 131,
   "id": "c7016b92",
   "metadata": {},
   "outputs": [
    {
     "data": {
      "text/plain": [
       "(30.19287485057736, 21.5, 41.5)"
      ]
     },
     "execution_count": 131,
     "metadata": {},
     "output_type": "execute_result"
    }
   ],
   "source": [
    "a.sum() , b.sum() , c.sum()"
   ]
  },
  {
   "cell_type": "code",
   "execution_count": 132,
   "id": "a1488336",
   "metadata": {},
   "outputs": [
    {
     "data": {
      "text/plain": [
       "(2.718281828459045, 1.5, 1.0)"
      ]
     },
     "execution_count": 132,
     "metadata": {},
     "output_type": "execute_result"
    }
   ],
   "source": [
    "a.min() , b.min() , c.min()"
   ]
  },
  {
   "cell_type": "code",
   "execution_count": 133,
   "id": "8f9cfcf3",
   "metadata": {},
   "outputs": [
    {
     "data": {
      "text/plain": [
       "(20.085536923187668, 6.0, 6.0)"
      ]
     },
     "execution_count": 133,
     "metadata": {},
     "output_type": "execute_result"
    }
   ],
   "source": [
    "a.max() , b.max() , c.max()"
   ]
  },
  {
   "cell_type": "code",
   "execution_count": 6,
   "id": "6cafe0cf",
   "metadata": {},
   "outputs": [
    {
     "data": {
      "text/plain": [
       "(array([3., 6.]),\n",
       " array([[4., 5., 6.],\n",
       "        [4., 5., 6.]]))"
      ]
     },
     "execution_count": 6,
     "metadata": {},
     "output_type": "execute_result"
    }
   ],
   "source": [
    "b.max(axis = 1) , c.max(axis = 1)"
   ]
  },
  {
   "cell_type": "code",
   "execution_count": 8,
   "id": "c0f05f23",
   "metadata": {},
   "outputs": [
    {
     "data": {
      "text/plain": [
       "(array([1.5, 2. , 3. ]),\n",
       " array([[1.5, 1. , 1. ],\n",
       "        [4. , 5. , 6. ]]))"
      ]
     },
     "execution_count": 8,
     "metadata": {},
     "output_type": "execute_result"
    }
   ],
   "source": [
    "b.min(axis = 0 ) , c.min(axis = 0)"
   ]
  },
  {
   "cell_type": "code",
   "execution_count": 11,
   "id": "89ce798f",
   "metadata": {},
   "outputs": [
    {
     "data": {
      "text/plain": [
       "(array([ 1.5,  3.5,  6.5, 10.5, 15.5, 21.5]),\n",
       " array([[ 1.5,  3.5,  6.5],\n",
       "        [ 4. ,  9. , 15. ]]),\n",
       " array([[1.5, 2. , 3. ],\n",
       "        [5.5, 7. , 9. ]]))"
      ]
     },
     "execution_count": 11,
     "metadata": {},
     "output_type": "execute_result"
    }
   ],
   "source": [
    "b.cumsum() , b.cumsum(axis = 1) , b.cumsum(axis = 0)"
   ]
  },
  {
   "cell_type": "code",
   "execution_count": 12,
   "id": "91103f58",
   "metadata": {},
   "outputs": [
    {
     "data": {
      "text/plain": [
       "array([[1.5, 2. , 3. ],\n",
       "       [4. , 5. , 6. ]])"
      ]
     },
     "execution_count": 12,
     "metadata": {},
     "output_type": "execute_result"
    }
   ],
   "source": [
    "b"
   ]
  },
  {
   "cell_type": "code",
   "execution_count": 18,
   "id": "6054e3f5",
   "metadata": {},
   "outputs": [
    {
     "data": {
      "text/plain": [
       "(2.0, 2.0, 2.0)"
      ]
     },
     "execution_count": 18,
     "metadata": {},
     "output_type": "execute_result"
    }
   ],
   "source": [
    "a.mean() , np.median(a) , np.mean(a) "
   ]
  },
  {
   "cell_type": "code",
   "execution_count": 32,
   "id": "4dce6ce7",
   "metadata": {},
   "outputs": [
    {
     "data": {
      "text/plain": [
       "(3.5833333333333335, 3.5, 3.4583333333333335, 3.5)"
      ]
     },
     "execution_count": 32,
     "metadata": {},
     "output_type": "execute_result"
    }
   ],
   "source": [
    "tp = (np.mean(b) , np.median(b) ,  np.mean(c) , np.median(c))\n",
    "tp"
   ]
  },
  {
   "cell_type": "code",
   "execution_count": 38,
   "id": "2abb4611",
   "metadata": {},
   "outputs": [
    {
     "data": {
      "text/plain": [
       "array([[1.        , 0.98198051],\n",
       "       [0.98198051, 1.        ]])"
      ]
     },
     "execution_count": 38,
     "metadata": {},
     "output_type": "execute_result"
    }
   ],
   "source": [
    "np.corrcoef(b)"
   ]
  },
  {
   "cell_type": "code",
   "execution_count": 39,
   "id": "cc3cbc3c",
   "metadata": {},
   "outputs": [
    {
     "data": {
      "text/plain": [
       "array([[1.5, 2. , 3. ],\n",
       "       [4. , 5. , 6. ]])"
      ]
     },
     "execution_count": 39,
     "metadata": {},
     "output_type": "execute_result"
    }
   ],
   "source": [
    "b"
   ]
  },
  {
   "cell_type": "code",
   "execution_count": 42,
   "id": "ccdd166b",
   "metadata": {},
   "outputs": [
    {
     "data": {
      "text/plain": [
       "(0.6666666666666666, 0.6666666666666666)"
      ]
     },
     "execution_count": 42,
     "metadata": {},
     "output_type": "execute_result"
    }
   ],
   "source": [
    "np.var(a) ,a.var()"
   ]
  },
  {
   "cell_type": "code",
   "execution_count": 46,
   "id": "dd0e325c",
   "metadata": {},
   "outputs": [
    {
     "data": {
      "text/plain": [
       "(2.534722222222222, 2.534722222222222, 3.0607638888888893, 3.0607638888888893)"
      ]
     },
     "execution_count": 46,
     "metadata": {},
     "output_type": "execute_result"
    }
   ],
   "source": [
    "# varaince\n",
    "b.var() , np.var(b) , np.var(c) , c.var()"
   ]
  },
  {
   "cell_type": "code",
   "execution_count": 51,
   "id": "f3bf12dd",
   "metadata": {},
   "outputs": [
    {
     "data": {
      "text/plain": [
       "(0.816496580927726,\n",
       " 0.816496580927726,\n",
       " 1.5920810978785667,\n",
       " 1.5920810978785667,\n",
       " 1.7495038979347515,\n",
       " 1.7495038979347515)"
      ]
     },
     "execution_count": 51,
     "metadata": {},
     "output_type": "execute_result"
    }
   ],
   "source": [
    "#standard deviation\n",
    "a.std() , np.std(a) , b.std() , np.std(b) , c.std() , np.std(c)"
   ]
  },
  {
   "cell_type": "code",
   "execution_count": 53,
   "id": "5336c3c3",
   "metadata": {},
   "outputs": [
    {
     "data": {
      "text/plain": [
       "array([1, 2, 3])"
      ]
     },
     "execution_count": 53,
     "metadata": {},
     "output_type": "execute_result"
    }
   ],
   "source": [
    "# create a view\n",
    "h = a.view()\n",
    "h\n"
   ]
  },
  {
   "cell_type": "code",
   "execution_count": 57,
   "id": "f4db42ff",
   "metadata": {},
   "outputs": [
    {
     "data": {
      "text/plain": [
       "3059674678832"
      ]
     },
     "execution_count": 57,
     "metadata": {},
     "output_type": "execute_result"
    }
   ],
   "source": [
    "id(h)"
   ]
  },
  {
   "cell_type": "code",
   "execution_count": 58,
   "id": "014dc36d",
   "metadata": {},
   "outputs": [
    {
     "data": {
      "text/plain": [
       "3059674503952"
      ]
     },
     "execution_count": 58,
     "metadata": {},
     "output_type": "execute_result"
    }
   ],
   "source": [
    "id(a)"
   ]
  },
  {
   "cell_type": "code",
   "execution_count": 59,
   "id": "b0ee8fa4",
   "metadata": {},
   "outputs": [],
   "source": [
    "#deep copy\n",
    "h = a.copy()"
   ]
  },
  {
   "cell_type": "code",
   "execution_count": 60,
   "id": "e3f78d30",
   "metadata": {},
   "outputs": [
    {
     "data": {
      "text/plain": [
       "(3059674680080, 3059674503952)"
      ]
     },
     "execution_count": 60,
     "metadata": {},
     "output_type": "execute_result"
    }
   ],
   "source": [
    "id(h) , id(a)"
   ]
  },
  {
   "cell_type": "code",
   "execution_count": 61,
   "id": "3c6d0280",
   "metadata": {},
   "outputs": [],
   "source": [
    "g = np.copy(a)"
   ]
  },
  {
   "cell_type": "code",
   "execution_count": 62,
   "id": "9c47dfc8",
   "metadata": {},
   "outputs": [
    {
     "data": {
      "text/plain": [
       "array([1, 2, 3])"
      ]
     },
     "execution_count": 62,
     "metadata": {},
     "output_type": "execute_result"
    }
   ],
   "source": [
    "g"
   ]
  },
  {
   "cell_type": "code",
   "execution_count": 63,
   "id": "687cb6f9",
   "metadata": {},
   "outputs": [
    {
     "data": {
      "text/plain": [
       "3059674677584"
      ]
     },
     "execution_count": 63,
     "metadata": {},
     "output_type": "execute_result"
    }
   ],
   "source": [
    "id(g)"
   ]
  },
  {
   "cell_type": "code",
   "execution_count": 66,
   "id": "a03b000d",
   "metadata": {},
   "outputs": [
    {
     "data": {
      "text/plain": [
       "(3059674503952, 3059674503952)"
      ]
     },
     "execution_count": 66,
     "metadata": {},
     "output_type": "execute_result"
    }
   ],
   "source": [
    "#shallow copy\n",
    "d = a\n",
    "id(d) , id(a)"
   ]
  },
  {
   "cell_type": "code",
   "execution_count": 69,
   "id": "687ed1ec",
   "metadata": {},
   "outputs": [
    {
     "data": {
      "text/plain": [
       "(None, array([1, 2, 3]))"
      ]
     },
     "execution_count": 69,
     "metadata": {},
     "output_type": "execute_result"
    }
   ],
   "source": [
    "a.sort(),a"
   ]
  },
  {
   "cell_type": "code",
   "execution_count": 71,
   "id": "034feb3b",
   "metadata": {},
   "outputs": [
    {
     "data": {
      "text/plain": [
       "array([[[1.5, 1. , 1. ],\n",
       "        [4. , 5. , 6. ]],\n",
       "\n",
       "       [[3. , 2. , 3. ],\n",
       "        [4. , 5. , 6. ]]])"
      ]
     },
     "execution_count": 71,
     "metadata": {},
     "output_type": "execute_result"
    }
   ],
   "source": [
    "c.sort(axis=0)\n",
    "c"
   ]
  },
  {
   "cell_type": "code",
   "execution_count": 74,
   "id": "1a474d74",
   "metadata": {},
   "outputs": [
    {
     "data": {
      "text/plain": [
       "array([[1.5, 4. ],\n",
       "       [2. , 5. ],\n",
       "       [3. , 6. ]])"
      ]
     },
     "execution_count": 74,
     "metadata": {},
     "output_type": "execute_result"
    }
   ],
   "source": [
    "# transpose\n",
    "i = np.transpose(b)\n",
    "i"
   ]
  },
  {
   "cell_type": "code",
   "execution_count": 75,
   "id": "3dde22b7",
   "metadata": {},
   "outputs": [
    {
     "data": {
      "text/plain": [
       "array([[1.5, 2. , 3. ],\n",
       "       [4. , 5. , 6. ]])"
      ]
     },
     "execution_count": 75,
     "metadata": {},
     "output_type": "execute_result"
    }
   ],
   "source": [
    "i.T"
   ]
  },
  {
   "cell_type": "code",
   "execution_count": 76,
   "id": "21c8320b",
   "metadata": {},
   "outputs": [
    {
     "data": {
      "text/plain": [
       "array([1.5, 2. , 3. , 4. , 5. , 6. ])"
      ]
     },
     "execution_count": 76,
     "metadata": {},
     "output_type": "execute_result"
    }
   ],
   "source": [
    "# changing shape\n",
    "# .ravel() convert mulidimensional array to one dimension array\n",
    "b.ravel()"
   ]
  },
  {
   "cell_type": "code",
   "execution_count": 78,
   "id": "1d437d55",
   "metadata": {},
   "outputs": [],
   "source": [
    "g = c.ravel()"
   ]
  },
  {
   "cell_type": "code",
   "execution_count": 81,
   "id": "c710ef4f",
   "metadata": {},
   "outputs": [
    {
     "data": {
      "text/plain": [
       "array([[1.5, 1. , 1. , 4. ],\n",
       "       [5. , 6. , 3. , 2. ],\n",
       "       [3. , 4. , 5. , 6. ]])"
      ]
     },
     "execution_count": 81,
     "metadata": {},
     "output_type": "execute_result"
    }
   ],
   "source": [
    "g.reshape(3,4)"
   ]
  },
  {
   "cell_type": "code",
   "execution_count": 87,
   "id": "a44e2ce7",
   "metadata": {},
   "outputs": [
    {
     "data": {
      "text/plain": [
       "array([[1, 2, 3, 0, 0, 0],\n",
       "       [0, 0, 0, 0, 0, 0]])"
      ]
     },
     "execution_count": 87,
     "metadata": {},
     "output_type": "execute_result"
    }
   ],
   "source": [
    "h.resize((2,6))\n",
    "h"
   ]
  },
  {
   "cell_type": "code",
   "execution_count": 88,
   "id": "f7998312",
   "metadata": {},
   "outputs": [
    {
     "data": {
      "text/plain": [
       "array([1. , 2. , 3. , 0. , 0. , 0. , 0. , 0. , 0. , 0. , 0. , 0. , 1.5,\n",
       "       1. , 1. , 4. , 5. , 6. , 3. , 2. , 3. , 4. , 5. , 6. ])"
      ]
     },
     "execution_count": 88,
     "metadata": {},
     "output_type": "execute_result"
    }
   ],
   "source": [
    "np.append(h, g)"
   ]
  },
  {
   "cell_type": "code",
   "execution_count": 89,
   "id": "f1ac3644",
   "metadata": {},
   "outputs": [
    {
     "data": {
      "text/plain": [
       "array([1, 5, 2, 3])"
      ]
     },
     "execution_count": 89,
     "metadata": {},
     "output_type": "execute_result"
    }
   ],
   "source": [
    "np.insert(a, 1,5)"
   ]
  },
  {
   "cell_type": "code",
   "execution_count": 91,
   "id": "d672ebfb",
   "metadata": {},
   "outputs": [
    {
     "data": {
      "text/plain": [
       "array([1.5, 2. , 5. , 3. , 4. , 5. , 6. ])"
      ]
     },
     "execution_count": 91,
     "metadata": {},
     "output_type": "execute_result"
    }
   ],
   "source": [
    "np.insert(b, 2 , 5)"
   ]
  },
  {
   "cell_type": "code",
   "execution_count": 92,
   "id": "4b5a1238",
   "metadata": {},
   "outputs": [
    {
     "data": {
      "text/plain": [
       "array([[1.5, 2. , 3. ],\n",
       "       [4. , 5. , 6. ]])"
      ]
     },
     "execution_count": 92,
     "metadata": {},
     "output_type": "execute_result"
    }
   ],
   "source": [
    "b"
   ]
  },
  {
   "cell_type": "code",
   "execution_count": 93,
   "id": "4e52a6a5",
   "metadata": {},
   "outputs": [
    {
     "data": {
      "text/plain": [
       "array([1, 3])"
      ]
     },
     "execution_count": 93,
     "metadata": {},
     "output_type": "execute_result"
    }
   ],
   "source": [
    "np.delete(a, [1])"
   ]
  },
  {
   "cell_type": "code",
   "execution_count": 94,
   "id": "f07b1559",
   "metadata": {},
   "outputs": [
    {
     "data": {
      "text/plain": [
       "array([1, 2, 3])"
      ]
     },
     "execution_count": 94,
     "metadata": {},
     "output_type": "execute_result"
    }
   ],
   "source": [
    "a"
   ]
  },
  {
   "cell_type": "code",
   "execution_count": 97,
   "id": "4fd233b7",
   "metadata": {},
   "outputs": [
    {
     "data": {
      "text/plain": [
       "array([1, 2])"
      ]
     },
     "execution_count": 97,
     "metadata": {},
     "output_type": "execute_result"
    }
   ],
   "source": [
    "np.delete(a , [2])"
   ]
  },
  {
   "cell_type": "code",
   "execution_count": 100,
   "id": "a1a30a55",
   "metadata": {},
   "outputs": [],
   "source": [
    " h = a"
   ]
  },
  {
   "cell_type": "code",
   "execution_count": 101,
   "id": "b58a27ec",
   "metadata": {},
   "outputs": [
    {
     "data": {
      "text/plain": [
       "array([1, 2, 3, 1, 2, 3])"
      ]
     },
     "execution_count": 101,
     "metadata": {},
     "output_type": "execute_result"
    }
   ],
   "source": [
    "np.concatenate((a,h) , axis = 0)"
   ]
  },
  {
   "cell_type": "code",
   "execution_count": 102,
   "id": "0899b8d1",
   "metadata": {},
   "outputs": [
    {
     "data": {
      "text/plain": [
       "array([[1. , 2. , 3. ],\n",
       "       [1.5, 2. , 3. ],\n",
       "       [4. , 5. , 6. ]])"
      ]
     },
     "execution_count": 102,
     "metadata": {},
     "output_type": "execute_result"
    }
   ],
   "source": [
    "np.vstack((a,b))"
   ]
  },
  {
   "cell_type": "code",
   "execution_count": 106,
   "id": "66843f90",
   "metadata": {},
   "outputs": [
    {
     "data": {
      "text/plain": [
       "array([[7, 7],\n",
       "       [7, 7]])"
      ]
     },
     "execution_count": 106,
     "metadata": {},
     "output_type": "execute_result"
    }
   ],
   "source": [
    "e = np.full((2,2) , 7)\n",
    "e\n"
   ]
  },
  {
   "cell_type": "code",
   "execution_count": 110,
   "id": "cbf375f7",
   "metadata": {},
   "outputs": [
    {
     "data": {
      "text/plain": [
       "array([[1., 0.],\n",
       "       [0., 1.]])"
      ]
     },
     "execution_count": 110,
     "metadata": {},
     "output_type": "execute_result"
    }
   ],
   "source": [
    "f= np.eye(2)\n",
    "f"
   ]
  },
  {
   "cell_type": "code",
   "execution_count": 111,
   "id": "d311ccd7",
   "metadata": {},
   "outputs": [
    {
     "data": {
      "text/plain": [
       "array([[7., 7., 1., 0.],\n",
       "       [7., 7., 0., 1.]])"
      ]
     },
     "execution_count": 111,
     "metadata": {},
     "output_type": "execute_result"
    }
   ],
   "source": [
    "np.hstack((e,f))"
   ]
  },
  {
   "cell_type": "code",
   "execution_count": 112,
   "id": "4f61cd23",
   "metadata": {},
   "outputs": [
    {
     "data": {
      "text/plain": [
       "[array([1]), array([2]), array([3])]"
      ]
     },
     "execution_count": 112,
     "metadata": {},
     "output_type": "execute_result"
    }
   ],
   "source": [
    "np.hsplit(a, 3)"
   ]
  },
  {
   "cell_type": "code",
   "execution_count": 119,
   "id": "1dd0c550",
   "metadata": {},
   "outputs": [],
   "source": [
    "tp = tuple(np.vsplit(b,2))"
   ]
  },
  {
   "cell_type": "code",
   "execution_count": 116,
   "id": "3e5add89",
   "metadata": {},
   "outputs": [
    {
     "data": {
      "text/plain": [
       "array([[1.5, 2. , 3. ],\n",
       "       [4. , 5. , 6. ]])"
      ]
     },
     "execution_count": 116,
     "metadata": {},
     "output_type": "execute_result"
    }
   ],
   "source": [
    "b"
   ]
  },
  {
   "cell_type": "code",
   "execution_count": 122,
   "id": "9629c921",
   "metadata": {},
   "outputs": [
    {
     "data": {
      "text/plain": [
       "tuple"
      ]
     },
     "execution_count": 122,
     "metadata": {},
     "output_type": "execute_result"
    }
   ],
   "source": [
    "type(tp)"
   ]
  },
  {
   "cell_type": "code",
   "execution_count": 123,
   "id": "931b93ad",
   "metadata": {},
   "outputs": [
    {
     "data": {
      "text/plain": [
       "[array([[1.5, 2. , 3. ]]), array([[4., 5., 6.]])]"
      ]
     },
     "execution_count": 123,
     "metadata": {},
     "output_type": "execute_result"
    }
   ],
   "source": [
    "list(tp)"
   ]
  },
  {
   "cell_type": "code",
   "execution_count": 6,
   "id": "e6a4ec42",
   "metadata": {},
   "outputs": [
    {
     "data": {
      "text/plain": [
       "array([1])"
      ]
     },
     "execution_count": 6,
     "metadata": {},
     "output_type": "execute_result"
    }
   ],
   "source": [
    "a[a<2]"
   ]
  },
  {
   "cell_type": "code",
   "execution_count": null,
   "id": "7209f450",
   "metadata": {},
   "outputs": [],
   "source": []
  },
  {
   "cell_type": "code",
   "execution_count": null,
   "id": "cba3a368",
   "metadata": {},
   "outputs": [],
   "source": []
  },
  {
   "cell_type": "code",
   "execution_count": null,
   "id": "8346ad45",
   "metadata": {},
   "outputs": [],
   "source": []
  }
 ],
 "metadata": {
  "kernelspec": {
   "display_name": "Python 3",
   "language": "python",
   "name": "python3"
  },
  "language_info": {
   "codemirror_mode": {
    "name": "ipython",
    "version": 3
   },
   "file_extension": ".py",
   "mimetype": "text/x-python",
   "name": "python",
   "nbconvert_exporter": "python",
   "pygments_lexer": "ipython3",
   "version": "3.8.8"
  }
 },
 "nbformat": 4,
 "nbformat_minor": 5
}
